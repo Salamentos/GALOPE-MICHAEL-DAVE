{
 "cells": [
  {
   "cell_type": "code",
   "execution_count": 1,
   "id": "6b29237e-01c8-49c8-8ac8-232442ad141c",
   "metadata": {},
   "outputs": [
    {
     "name": "stdout",
     "output_type": "stream",
     "text": [
      "Requirement already satisfied: pandas in c:\\users\\asus\\anaconda3\\lib\\site-packages (2.2.2)\n",
      "Requirement already satisfied: numpy in c:\\users\\asus\\anaconda3\\lib\\site-packages (1.26.4)\n",
      "Requirement already satisfied: scipy in c:\\users\\asus\\anaconda3\\lib\\site-packages (1.13.1)\n",
      "Requirement already satisfied: statsmodels in c:\\users\\asus\\anaconda3\\lib\\site-packages (0.14.2)\n",
      "Requirement already satisfied: matplotlib in c:\\users\\asus\\anaconda3\\lib\\site-packages (3.9.2)\n",
      "Requirement already satisfied: seaborn in c:\\users\\asus\\anaconda3\\lib\\site-packages (0.13.2)\n",
      "Requirement already satisfied: python-dateutil>=2.8.2 in c:\\users\\asus\\anaconda3\\lib\\site-packages (from pandas) (2.9.0.post0)\n",
      "Requirement already satisfied: pytz>=2020.1 in c:\\users\\asus\\anaconda3\\lib\\site-packages (from pandas) (2024.1)\n",
      "Requirement already satisfied: tzdata>=2022.7 in c:\\users\\asus\\anaconda3\\lib\\site-packages (from pandas) (2023.3)\n",
      "Requirement already satisfied: patsy>=0.5.6 in c:\\users\\asus\\anaconda3\\lib\\site-packages (from statsmodels) (0.5.6)\n",
      "Requirement already satisfied: packaging>=21.3 in c:\\users\\asus\\anaconda3\\lib\\site-packages (from statsmodels) (24.1)\n",
      "Requirement already satisfied: contourpy>=1.0.1 in c:\\users\\asus\\anaconda3\\lib\\site-packages (from matplotlib) (1.2.0)\n",
      "Requirement already satisfied: cycler>=0.10 in c:\\users\\asus\\anaconda3\\lib\\site-packages (from matplotlib) (0.11.0)\n",
      "Requirement already satisfied: fonttools>=4.22.0 in c:\\users\\asus\\anaconda3\\lib\\site-packages (from matplotlib) (4.51.0)\n",
      "Requirement already satisfied: kiwisolver>=1.3.1 in c:\\users\\asus\\anaconda3\\lib\\site-packages (from matplotlib) (1.4.4)\n",
      "Requirement already satisfied: pillow>=8 in c:\\users\\asus\\anaconda3\\lib\\site-packages (from matplotlib) (10.4.0)\n",
      "Requirement already satisfied: pyparsing>=2.3.1 in c:\\users\\asus\\anaconda3\\lib\\site-packages (from matplotlib) (3.1.2)\n",
      "Requirement already satisfied: six in c:\\users\\asus\\anaconda3\\lib\\site-packages (from patsy>=0.5.6->statsmodels) (1.16.0)\n"
     ]
    }
   ],
   "source": [
    "!pip install pandas numpy scipy statsmodels matplotlib seaborn"
   ]
  },
  {
   "cell_type": "code",
   "execution_count": 3,
   "id": "429c9204-bb41-4327-ae42-207984d25a46",
   "metadata": {},
   "outputs": [],
   "source": [
    "import pandas as pd\n",
    "import numpy as np\n",
    "from scipy.optimize import minimize\n",
    "import statsmodels.api as sm\n",
    "import matplotlib.pyplot as plt\n",
    "import seaborn as sns"
   ]
  },
  {
   "cell_type": "code",
   "execution_count": 7,
   "id": "0acf8444-3ab6-4136-8795-d2cba1ea4534",
   "metadata": {},
   "outputs": [],
   "source": [
    "np.random.seed(42)\n",
    "hours_studied = np.random.normal(4, 3, 100)\n",
    "sleep_hours = np.random.normal(8, 3.5, 100)"
   ]
  },
  {
   "cell_type": "code",
   "execution_count": 9,
   "id": "433da103-cf4c-435f-9c24-55da1da3c87b",
   "metadata": {},
   "outputs": [],
   "source": [
    "exam_score = 10 * hours_studied + 2 * sleep_hours + np.random.normal(0, 5, 100)\n",
    "\n",
    "df = pd.DataFrame({\n",
    "    'hours_studied': hours_studied,\n",
    "    'sleep_hours': sleep_hours,\n",
    "    'exam_score': exam_score\n",
    "})"
   ]
  },
  {
   "cell_type": "code",
   "execution_count": 11,
   "id": "58af8bc3-61cd-430c-876d-f7fb221abe8c",
   "metadata": {},
   "outputs": [],
   "source": [
    "missing = df.isnull().sum()"
   ]
  },
  {
   "cell_type": "code",
   "execution_count": 13,
   "id": "25373697-8e61-45cb-8bd3-001f1ef29d5c",
   "metadata": {},
   "outputs": [],
   "source": [
    "from scipy.stats import zscore\n",
    "z_scores = np.abs(zscore(df))\n",
    "outliers = (z_scores > 3).any(axis=1)\n",
    "outlier_report = df[outliers]"
   ]
  },
  {
   "cell_type": "code",
   "execution_count": 15,
   "id": "9fbb6b50-f1fe-4740-9e79-99ad14ea708b",
   "metadata": {},
   "outputs": [],
   "source": [
    "cleaned_df = df[~outliers]"
   ]
  },
  {
   "cell_type": "code",
   "execution_count": 17,
   "id": "c2b1b858-2717-4e18-a850-1c9514d356cb",
   "metadata": {},
   "outputs": [
    {
     "name": "stdout",
     "output_type": "stream",
     "text": [
      "Missing values:\n",
      " hours_studied    0\n",
      "sleep_hours      0\n",
      "exam_score       0\n",
      "dtype: int64\n",
      "\n",
      "Outliers:\n",
      " Empty DataFrame\n",
      "Columns: [hours_studied, sleep_hours, exam_score]\n",
      "Index: []\n"
     ]
    }
   ],
   "source": [
    "cleaned_df.to_csv(\"cleaned_data.csv\", index=False)\n",
    "print(\"Missing values:\\n\", missing)\n",
    "print(\"\\nOutliers:\\n\", outlier_report)"
   ]
  },
  {
   "cell_type": "code",
   "execution_count": 19,
   "id": "51959800-db44-4896-aff3-b9e36a9f2dee",
   "metadata": {},
   "outputs": [
    {
     "name": "stdout",
     "output_type": "stream",
     "text": [
      "Correlation Matrix:\n",
      "                hours_studied  sleep_hours\n",
      "hours_studied       1.000000    -0.136422\n",
      "sleep_hours        -0.136422     1.000000\n"
     ]
    }
   ],
   "source": [
    "correlation_matrix = cleaned_df[['hours_studied', 'sleep_hours']].corr()\n",
    "print(\"Correlation Matrix:\\n\", correlation_matrix)"
   ]
  },
  {
   "cell_type": "code",
   "execution_count": 21,
   "id": "a2a690a1-bfca-4ddc-bfc3-275eccb823b7",
   "metadata": {},
   "outputs": [],
   "source": [
    "features = cleaned_df[['hours_studied', 'sleep_hours']]\n",
    "standardized_features = (features - features.mean()) / features.std()"
   ]
  },
  {
   "cell_type": "code",
   "execution_count": 23,
   "id": "bf8979e8-0da9-44ac-818e-9684d5eb6c5d",
   "metadata": {},
   "outputs": [],
   "source": [
    "X = np.c_[np.ones(len(standardized_features)), standardized_features]\n",
    "y = cleaned_df['exam_score'].values"
   ]
  },
  {
   "cell_type": "code",
   "execution_count": 25,
   "id": "bc00b554-ccc5-4273-a9c7-6df92e76d8a9",
   "metadata": {},
   "outputs": [],
   "source": [
    "def mse(beta):\n",
    "    predictions = X @ beta\n",
    "    return np.mean((y - predictions) ** 2)"
   ]
  },
  {
   "cell_type": "code",
   "execution_count": 27,
   "id": "cb8b29bc-5723-42e6-8ad2-079208317bde",
   "metadata": {},
   "outputs": [],
   "source": [
    "initial_beta = np.zeros(X.shape[1])"
   ]
  },
  {
   "cell_type": "code",
   "execution_count": null,
   "id": "cce3ed67-5caf-4e55-a511-89cef6305b95",
   "metadata": {},
   "outputs": [],
   "source": [
    "result = minimize(mse, initial_beta)\n",
    "beta_opt = result.x"
   ]
  }
 ],
 "metadata": {
  "kernelspec": {
   "display_name": "Python [conda env:base] *",
   "language": "python",
   "name": "conda-base-py"
  },
  "language_info": {
   "codemirror_mode": {
    "name": "ipython",
    "version": 3
   },
   "file_extension": ".py",
   "mimetype": "text/x-python",
   "name": "python",
   "nbconvert_exporter": "python",
   "pygments_lexer": "ipython3",
   "version": "3.12.7"
  }
 },
 "nbformat": 4,
 "nbformat_minor": 5
}
